{
 "cells": [
  {
   "cell_type": "markdown",
   "id": "8c429ac2",
   "metadata": {},
   "source": [
    "# Data Science Tools and Ecosystem"
   ]
  },
  {
   "cell_type": "markdown",
   "id": "7dc998a9",
   "metadata": {},
   "source": [
    "In this notebook, Data Science Tools and Ecosystems are sumarized."
   ]
  },
  {
   "cell_type": "markdown",
   "id": "7d378d31",
   "metadata": {},
   "source": [
    "__Objectives:__\n",
    "\n",
    "* Popular Languages\n",
    "* Commonly used Libraries\n",
    "* Data Science Tools"
   ]
  },
  {
   "cell_type": "markdown",
   "id": "44aabe44",
   "metadata": {},
   "source": [
    "Some of the popuar languages that Data Scientist use are:"
   ]
  },
  {
   "cell_type": "markdown",
   "id": "01019b70",
   "metadata": {},
   "source": [
    "1. Phyton\n",
    "2. R\n",
    "3. SQL"
   ]
  },
  {
   "cell_type": "markdown",
   "id": "af304e44",
   "metadata": {},
   "source": [
    "Some of the commonly used libraries used by Data Scientist include:\n",
    "\n",
    "    1. Numpy\n",
    "    2. Pandas\n",
    "    3. TensorFlow"
   ]
  },
  {
   "cell_type": "markdown",
   "id": "32510c52",
   "metadata": {},
   "source": [
    "|Data Science Tools|\n",
    "| ---------------- |\n",
    "| Apache Spark |\n",
    "| TensorFlow |\n",
    "| R Studio |"
   ]
  },
  {
   "cell_type": "markdown",
   "id": "7eff1692",
   "metadata": {},
   "source": [
    "### Below are a few examples of evaluating arithmetic expressions in Phython"
   ]
  },
  {
   "cell_type": "code",
   "execution_count": null,
   "id": "f0305287",
   "metadata": {},
   "outputs": [],
   "source": [
    "(3*4)+5\n",
    "This is a simple arithetic expression to multiply then add integers"
   ]
  },
  {
   "cell_type": "code",
   "execution_count": 2,
   "id": "47e95aeb",
   "metadata": {},
   "outputs": [
    {
     "data": {
      "text/plain": [
       "17"
      ]
     },
     "execution_count": 2,
     "metadata": {},
     "output_type": "execute_result"
    }
   ],
   "source": [
    "(3*4)+5"
   ]
  },
  {
   "cell_type": "markdown",
   "id": "2470495f",
   "metadata": {},
   "source": [
    "this will convert 200 minutes to hours by dividing by 60."
   ]
  },
  {
   "cell_type": "code",
   "execution_count": 6,
   "id": "26611a46",
   "metadata": {},
   "outputs": [
    {
     "data": {
      "text/plain": [
       "3.3333333333333335"
      ]
     },
     "execution_count": 6,
     "metadata": {},
     "output_type": "execute_result"
    }
   ],
   "source": [
    "(200/60)"
   ]
  },
  {
   "cell_type": "markdown",
   "id": "2ca92964",
   "metadata": {},
   "source": [
    "## Author\n",
    "Izchel Padilla"
   ]
  },
  {
   "cell_type": "code",
   "execution_count": null,
   "id": "ce06123c",
   "metadata": {},
   "outputs": [],
   "source": []
  }
 ],
 "metadata": {
  "kernelspec": {
   "display_name": "Python 3 (ipykernel)",
   "language": "python",
   "name": "python3"
  },
  "language_info": {
   "codemirror_mode": {
    "name": "ipython",
    "version": 3
   },
   "file_extension": ".py",
   "mimetype": "text/x-python",
   "name": "python",
   "nbconvert_exporter": "python",
   "pygments_lexer": "ipython3",
   "version": "3.10.9"
  }
 },
 "nbformat": 4,
 "nbformat_minor": 5
}
